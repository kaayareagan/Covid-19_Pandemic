{
 "cells": [
  {
   "cell_type": "markdown",
   "metadata": {
    "collapsed": true
   },
   "source": [
    "<h2>Segmenting and Grouping Neighborhood Vulnerable to Covid-19 Pandemic</h2>"
   ]
  },
  {
   "cell_type": "markdown",
   "metadata": {},
   "source": [
    "<h2> By Michael Kumakech</h2>"
   ]
  },
  {
   "cell_type": "markdown",
   "metadata": {},
   "source": [
    "<h2>PART  1: Model Development </h2>"
   ]
  },
  {
   "cell_type": "markdown",
   "metadata": {},
   "source": [
    "In this section, we will develop several models that will predict the number deaths due to Convid-19 Pandemic in the World using the variables or features. This is just an estimate but should give us an objective idea of how much the Pandemic will cost."
   ]
  },
  {
   "cell_type": "markdown",
   "metadata": {},
   "source": [
    "Data Analytics, we often use Model Development to help us predict future observations from the data we have.\n",
    "In  Artificial Intelligence, a Model will help us understand the exact relationship between different variables and how these variables are used to predict the result.\n"
   ]
  },
  {
   "cell_type": "markdown",
   "metadata": {},
   "source": [
    "<b> Import Libaries</b>"
   ]
  },
  {
   "cell_type": "code",
   "execution_count": 1,
   "metadata": {},
   "outputs": [],
   "source": [
    "import requests\n",
    "import lxml.html as lh\n",
    "import pandas as pd"
   ]
  },
  {
   "cell_type": "markdown",
   "metadata": {},
   "source": [
    "<b> Remove the website to be put in the notebook</b>"
   ]
  },
  {
   "cell_type": "code",
   "execution_count": 2,
   "metadata": {},
   "outputs": [
    {
     "data": {
      "text/plain": [
       "[5, 5, 5, 5, 5, 5, 5, 5, 5, 5, 5, 5]"
      ]
     },
     "execution_count": 2,
     "metadata": {},
     "output_type": "execute_result"
    }
   ],
   "source": [
    "WHO_url = 'https://www.ecdc.europa.eu/en/geographical-distribution-2019-ncov-cases' #assign the wiki page\n",
    "#WHO_url = 'https://data.humdata.org/dataset/novel-coronavirus-2019-ncov-cases'\n",
    "\n",
    "page = requests.get(WHO_url) # create a handle to for contents of the wiki page\n",
    "\n",
    "doc = lh.fromstring(page.content) # store content of the wiki page under doc\n",
    "\n",
    "tr_elements = doc.xpath('//tr') # parse data stored between tr in the html\n",
    "\n",
    "[len(T) for T in tr_elements[:12]] # check the length of the first 12 rows"
   ]
  },
  {
   "cell_type": "markdown",
   "metadata": {},
   "source": [
    "<b> Check the table headers</b>"
   ]
  },
  {
   "cell_type": "code",
   "execution_count": 3,
   "metadata": {},
   "outputs": [
    {
     "name": "stdout",
     "output_type": "stream",
     "text": [
      "1:Region\n",
      "2:Places reporting cases\n",
      "3:Cases\n",
      "4:Deaths\n",
      "5:Confirmed cases in the last 14 days\n"
     ]
    }
   ],
   "source": [
    "tr_elements = doc.xpath('//tr') # parse first row as header\n",
    "\n",
    "col = [] # create empty list\n",
    "i = 0\n",
    "\n",
    "for t in tr_elements[0]: # for each row, store each first element (header) and an empty list\n",
    "    i+=1\n",
    "    name=t.text_content()\n",
    "    print(\"%d:%s\" % (i,name))\n",
    "    col.append((name,[]))"
   ]
  },
  {
   "cell_type": "markdown",
   "metadata": {},
   "source": [
    "<b> Check the data in other Row</b>"
   ]
  },
  {
   "cell_type": "code",
   "execution_count": 4,
   "metadata": {},
   "outputs": [],
   "source": [
    "for j in range(1,len(tr_elements)): # Because header is the first row, data would be store in the subsequent rows.\n",
    "    T = tr_elements[j] #T is j'th row\n",
    "    \n",
    "    if len(T)!=5: #if row is not size 3, //tr data is not from the table.\n",
    "        break\n",
    "        \n",
    "    i = 0 #i is the index of the first column\n",
    "    \n",
    "    for t in T.iterchildren(): #iterate through each element of the row\n",
    "        data=t.text_content()\n",
    "            \n",
    "        col[i][1].append(data) #append the data to the empty list of the i'th column\n",
    "            \n",
    "        i+=1 #increment i for the next column"
   ]
  },
  {
   "cell_type": "markdown",
   "metadata": {},
   "source": [
    "<b> What about the numbers of rows and columns</b>"
   ]
  },
  {
   "cell_type": "code",
   "execution_count": 5,
   "metadata": {},
   "outputs": [
    {
     "data": {
      "text/plain": [
       "[207, 207, 207, 207, 207]"
      ]
     },
     "execution_count": 5,
     "metadata": {},
     "output_type": "execute_result"
    }
   ],
   "source": [
    "[len(C) for (title,C) in col]"
   ]
  },
  {
   "cell_type": "markdown",
   "metadata": {},
   "source": [
    "<b> Displays the data frame with three columns.</b>"
   ]
  },
  {
   "cell_type": "code",
   "execution_count": 12,
   "metadata": {},
   "outputs": [],
   "source": [
    "Dict = {title:column for (title,column) in col}\n",
    "df = pd.DataFrame(Dict)"
   ]
  },
  {
   "cell_type": "code",
   "execution_count": 7,
   "metadata": {},
   "outputs": [
    {
     "data": {
      "text/html": [
       "<div>\n",
       "<style scoped>\n",
       "    .dataframe tbody tr th:only-of-type {\n",
       "        vertical-align: middle;\n",
       "    }\n",
       "\n",
       "    .dataframe tbody tr th {\n",
       "        vertical-align: top;\n",
       "    }\n",
       "\n",
       "    .dataframe thead th {\n",
       "        text-align: right;\n",
       "    }\n",
       "</style>\n",
       "<table border=\"1\" class=\"dataframe\">\n",
       "  <thead>\n",
       "    <tr style=\"text-align: right;\">\n",
       "      <th></th>\n",
       "      <th>Region</th>\n",
       "      <th>Places reporting cases</th>\n",
       "      <th>Cases</th>\n",
       "      <th>Deaths</th>\n",
       "      <th>Confirmed cases in the last 14 days</th>\n",
       "    </tr>\n",
       "  </thead>\n",
       "  <tbody>\n",
       "    <tr>\n",
       "      <th>0</th>\n",
       "      <td>Africa</td>\n",
       "      <td>Algeria</td>\n",
       "      <td>1825</td>\n",
       "      <td>275</td>\n",
       "      <td>1416</td>\n",
       "    </tr>\n",
       "    <tr>\n",
       "      <th>1</th>\n",
       "      <td>Africa</td>\n",
       "      <td>Angola</td>\n",
       "      <td>19</td>\n",
       "      <td>2</td>\n",
       "      <td>15</td>\n",
       "    </tr>\n",
       "    <tr>\n",
       "      <th>2</th>\n",
       "      <td>Africa</td>\n",
       "      <td>Benin</td>\n",
       "      <td>35</td>\n",
       "      <td>1</td>\n",
       "      <td>29</td>\n",
       "    </tr>\n",
       "    <tr>\n",
       "      <th>3</th>\n",
       "      <td>Africa</td>\n",
       "      <td>Botswana</td>\n",
       "      <td>13</td>\n",
       "      <td>1</td>\n",
       "      <td>13</td>\n",
       "    </tr>\n",
       "    <tr>\n",
       "      <th>4</th>\n",
       "      <td>Africa</td>\n",
       "      <td>Burkina_Faso</td>\n",
       "      <td>484</td>\n",
       "      <td>27</td>\n",
       "      <td>304</td>\n",
       "    </tr>\n",
       "    <tr>\n",
       "      <th>5</th>\n",
       "      <td>Africa</td>\n",
       "      <td>Burundi</td>\n",
       "      <td>5</td>\n",
       "      <td>0</td>\n",
       "      <td>5</td>\n",
       "    </tr>\n",
       "    <tr>\n",
       "      <th>6</th>\n",
       "      <td>Africa</td>\n",
       "      <td>Cameroon</td>\n",
       "      <td>820</td>\n",
       "      <td>11</td>\n",
       "      <td>721</td>\n",
       "    </tr>\n",
       "    <tr>\n",
       "      <th>7</th>\n",
       "      <td>Africa</td>\n",
       "      <td>Cape_Verde</td>\n",
       "      <td>8</td>\n",
       "      <td>1</td>\n",
       "      <td>3</td>\n",
       "    </tr>\n",
       "    <tr>\n",
       "      <th>8</th>\n",
       "      <td>Africa</td>\n",
       "      <td>Central_African_Republic</td>\n",
       "      <td>11</td>\n",
       "      <td>0</td>\n",
       "      <td>5</td>\n",
       "    </tr>\n",
       "    <tr>\n",
       "      <th>9</th>\n",
       "      <td>Africa</td>\n",
       "      <td>Chad</td>\n",
       "      <td>11</td>\n",
       "      <td>0</td>\n",
       "      <td>6</td>\n",
       "    </tr>\n",
       "    <tr>\n",
       "      <th>10</th>\n",
       "      <td>Africa</td>\n",
       "      <td>Congo</td>\n",
       "      <td>60</td>\n",
       "      <td>5</td>\n",
       "      <td>41</td>\n",
       "    </tr>\n",
       "    <tr>\n",
       "      <th>11</th>\n",
       "      <td>Africa</td>\n",
       "      <td>Cote_dIvoire</td>\n",
       "      <td>533</td>\n",
       "      <td>4</td>\n",
       "      <td>393</td>\n",
       "    </tr>\n",
       "  </tbody>\n",
       "</table>\n",
       "</div>"
      ],
      "text/plain": [
       "    Region    Places reporting cases Cases Deaths  \\\n",
       "0   Africa                   Algeria  1825    275   \n",
       "1   Africa                    Angola    19      2   \n",
       "2   Africa                     Benin    35      1   \n",
       "3   Africa                  Botswana    13      1   \n",
       "4   Africa              Burkina_Faso   484     27   \n",
       "5   Africa                   Burundi     5      0   \n",
       "6   Africa                  Cameroon   820     11   \n",
       "7   Africa                Cape_Verde     8      1   \n",
       "8   Africa  Central_African_Republic    11      0   \n",
       "9   Africa                      Chad    11      0   \n",
       "10  Africa                     Congo    60      5   \n",
       "11  Africa              Cote_dIvoire   533      4   \n",
       "\n",
       "   Confirmed cases in the last 14 days  \n",
       "0                                 1416  \n",
       "1                                   15  \n",
       "2                                   29  \n",
       "3                                   13  \n",
       "4                                  304  \n",
       "5                                    5  \n",
       "6                                  721  \n",
       "7                                    3  \n",
       "8                                    5  \n",
       "9                                    6  \n",
       "10                                  41  \n",
       "11                                 393  "
      ]
     },
     "execution_count": 7,
     "metadata": {},
     "output_type": "execute_result"
    }
   ],
   "source": [
    "df.head(12)"
   ]
  },
  {
   "cell_type": "code",
   "execution_count": 13,
   "metadata": {},
   "outputs": [
    {
     "data": {
      "text/html": [
       "<div>\n",
       "<style scoped>\n",
       "    .dataframe tbody tr th:only-of-type {\n",
       "        vertical-align: middle;\n",
       "    }\n",
       "\n",
       "    .dataframe tbody tr th {\n",
       "        vertical-align: top;\n",
       "    }\n",
       "\n",
       "    .dataframe thead th {\n",
       "        text-align: right;\n",
       "    }\n",
       "</style>\n",
       "<table border=\"1\" class=\"dataframe\">\n",
       "  <thead>\n",
       "    <tr style=\"text-align: right;\">\n",
       "      <th></th>\n",
       "      <th>Region</th>\n",
       "      <th>Places reporting cases</th>\n",
       "      <th>Cases</th>\n",
       "      <th>Deaths</th>\n",
       "      <th>Confirmed cases in the last 14 days</th>\n",
       "    </tr>\n",
       "  </thead>\n",
       "  <tbody>\n",
       "    <tr>\n",
       "      <th>197</th>\n",
       "      <td>Oceania</td>\n",
       "      <td>Australia</td>\n",
       "      <td>6289</td>\n",
       "      <td>57</td>\n",
       "      <td>2480</td>\n",
       "    </tr>\n",
       "    <tr>\n",
       "      <th>198</th>\n",
       "      <td>Oceania</td>\n",
       "      <td>Fiji</td>\n",
       "      <td>16</td>\n",
       "      <td>0</td>\n",
       "      <td>11</td>\n",
       "    </tr>\n",
       "    <tr>\n",
       "      <th>199</th>\n",
       "      <td>Oceania</td>\n",
       "      <td>French_Polynesia</td>\n",
       "      <td>51</td>\n",
       "      <td>0</td>\n",
       "      <td>17</td>\n",
       "    </tr>\n",
       "    <tr>\n",
       "      <th>200</th>\n",
       "      <td>Oceania</td>\n",
       "      <td>Guam</td>\n",
       "      <td>133</td>\n",
       "      <td>5</td>\n",
       "      <td>78</td>\n",
       "    </tr>\n",
       "    <tr>\n",
       "      <th>201</th>\n",
       "      <td>Oceania</td>\n",
       "      <td>New_Caledonia</td>\n",
       "      <td>18</td>\n",
       "      <td>0</td>\n",
       "      <td>3</td>\n",
       "    </tr>\n",
       "    <tr>\n",
       "      <th>202</th>\n",
       "      <td>Oceania</td>\n",
       "      <td>New_Zealand</td>\n",
       "      <td>1049</td>\n",
       "      <td>4</td>\n",
       "      <td>573</td>\n",
       "    </tr>\n",
       "    <tr>\n",
       "      <th>203</th>\n",
       "      <td>Oceania</td>\n",
       "      <td>Northern_Mariana_Islands</td>\n",
       "      <td>11</td>\n",
       "      <td>2</td>\n",
       "      <td>11</td>\n",
       "    </tr>\n",
       "    <tr>\n",
       "      <th>204</th>\n",
       "      <td>Oceania</td>\n",
       "      <td>Papua_New_Guinea</td>\n",
       "      <td>2</td>\n",
       "      <td>0</td>\n",
       "      <td>1</td>\n",
       "    </tr>\n",
       "    <tr>\n",
       "      <th>205</th>\n",
       "      <td>Other</td>\n",
       "      <td>Cases_on_an_international_conveyance_Japan</td>\n",
       "      <td>696</td>\n",
       "      <td>7</td>\n",
       "      <td>0</td>\n",
       "    </tr>\n",
       "    <tr>\n",
       "      <th>206</th>\n",
       "      <td>Total</td>\n",
       "      <td></td>\n",
       "      <td>1734913</td>\n",
       "      <td>108306</td>\n",
       "      <td>1078045</td>\n",
       "    </tr>\n",
       "  </tbody>\n",
       "</table>\n",
       "</div>"
      ],
      "text/plain": [
       "      Region                      Places reporting cases    Cases  Deaths  \\\n",
       "197  Oceania                                   Australia     6289      57   \n",
       "198  Oceania                                        Fiji       16       0   \n",
       "199  Oceania                            French_Polynesia       51       0   \n",
       "200  Oceania                                        Guam      133       5   \n",
       "201  Oceania                               New_Caledonia       18       0   \n",
       "202  Oceania                                 New_Zealand     1049       4   \n",
       "203  Oceania                    Northern_Mariana_Islands       11       2   \n",
       "204  Oceania                            Papua_New_Guinea        2       0   \n",
       "205    Other  Cases_on_an_international_conveyance_Japan      696       7   \n",
       "206    Total                                              1734913  108306   \n",
       "\n",
       "    Confirmed cases in the last 14 days  \n",
       "197                                2480  \n",
       "198                                  11  \n",
       "199                                  17  \n",
       "200                                  78  \n",
       "201                                   3  \n",
       "202                                 573  \n",
       "203                                  11  \n",
       "204                                   1  \n",
       "205                                   0  \n",
       "206                             1078045  "
      ]
     },
     "execution_count": 13,
     "metadata": {},
     "output_type": "execute_result"
    }
   ],
   "source": [
    "df.tail(10)"
   ]
  },
  {
   "cell_type": "markdown",
   "metadata": {},
   "source": [
    "<b> Checking the shapes</b>"
   ]
  },
  {
   "cell_type": "code",
   "execution_count": 9,
   "metadata": {},
   "outputs": [
    {
     "data": {
      "text/plain": [
       "(207, 5)"
      ]
     },
     "execution_count": 9,
     "metadata": {},
     "output_type": "execute_result"
    }
   ],
   "source": [
    "df.shape"
   ]
  },
  {
   "cell_type": "markdown",
   "metadata": {},
   "source": [
    "<h2> Clean the dataframe</h2>"
   ]
  },
  {
   "cell_type": "code",
   "execution_count": 14,
   "metadata": {},
   "outputs": [],
   "source": [
    "import pandas as pd\n",
    "import numpy as np"
   ]
  },
  {
   "cell_type": "markdown",
   "metadata": {},
   "source": [
    "<b> Remove Row 204 that have total  record</b>"
   ]
  },
  {
   "cell_type": "code",
   "execution_count": 15,
   "metadata": {},
   "outputs": [
    {
     "data": {
      "text/html": [
       "<div>\n",
       "<style scoped>\n",
       "    .dataframe tbody tr th:only-of-type {\n",
       "        vertical-align: middle;\n",
       "    }\n",
       "\n",
       "    .dataframe tbody tr th {\n",
       "        vertical-align: top;\n",
       "    }\n",
       "\n",
       "    .dataframe thead th {\n",
       "        text-align: right;\n",
       "    }\n",
       "</style>\n",
       "<table border=\"1\" class=\"dataframe\">\n",
       "  <thead>\n",
       "    <tr style=\"text-align: right;\">\n",
       "      <th></th>\n",
       "      <th>Region</th>\n",
       "      <th>Places reporting cases</th>\n",
       "      <th>Cases</th>\n",
       "      <th>Deaths</th>\n",
       "      <th>Confirmed cases in the last 14 days</th>\n",
       "    </tr>\n",
       "  </thead>\n",
       "  <tbody>\n",
       "    <tr>\n",
       "      <th>0</th>\n",
       "      <td>Africa</td>\n",
       "      <td>Algeria</td>\n",
       "      <td>1825</td>\n",
       "      <td>275</td>\n",
       "      <td>1416</td>\n",
       "    </tr>\n",
       "    <tr>\n",
       "      <th>1</th>\n",
       "      <td>Africa</td>\n",
       "      <td>Angola</td>\n",
       "      <td>19</td>\n",
       "      <td>2</td>\n",
       "      <td>15</td>\n",
       "    </tr>\n",
       "    <tr>\n",
       "      <th>2</th>\n",
       "      <td>Africa</td>\n",
       "      <td>Benin</td>\n",
       "      <td>35</td>\n",
       "      <td>1</td>\n",
       "      <td>29</td>\n",
       "    </tr>\n",
       "    <tr>\n",
       "      <th>3</th>\n",
       "      <td>Africa</td>\n",
       "      <td>Botswana</td>\n",
       "      <td>13</td>\n",
       "      <td>1</td>\n",
       "      <td>13</td>\n",
       "    </tr>\n",
       "    <tr>\n",
       "      <th>4</th>\n",
       "      <td>Africa</td>\n",
       "      <td>Burkina_Faso</td>\n",
       "      <td>484</td>\n",
       "      <td>27</td>\n",
       "      <td>304</td>\n",
       "    </tr>\n",
       "    <tr>\n",
       "      <th>5</th>\n",
       "      <td>Africa</td>\n",
       "      <td>Burundi</td>\n",
       "      <td>5</td>\n",
       "      <td>0</td>\n",
       "      <td>5</td>\n",
       "    </tr>\n",
       "    <tr>\n",
       "      <th>6</th>\n",
       "      <td>Africa</td>\n",
       "      <td>Cameroon</td>\n",
       "      <td>820</td>\n",
       "      <td>11</td>\n",
       "      <td>721</td>\n",
       "    </tr>\n",
       "    <tr>\n",
       "      <th>7</th>\n",
       "      <td>Africa</td>\n",
       "      <td>Cape_Verde</td>\n",
       "      <td>8</td>\n",
       "      <td>1</td>\n",
       "      <td>3</td>\n",
       "    </tr>\n",
       "    <tr>\n",
       "      <th>8</th>\n",
       "      <td>Africa</td>\n",
       "      <td>Central_African_Republic</td>\n",
       "      <td>11</td>\n",
       "      <td>0</td>\n",
       "      <td>5</td>\n",
       "    </tr>\n",
       "    <tr>\n",
       "      <th>9</th>\n",
       "      <td>Africa</td>\n",
       "      <td>Chad</td>\n",
       "      <td>11</td>\n",
       "      <td>0</td>\n",
       "      <td>6</td>\n",
       "    </tr>\n",
       "    <tr>\n",
       "      <th>10</th>\n",
       "      <td>Africa</td>\n",
       "      <td>Congo</td>\n",
       "      <td>60</td>\n",
       "      <td>5</td>\n",
       "      <td>41</td>\n",
       "    </tr>\n",
       "    <tr>\n",
       "      <th>11</th>\n",
       "      <td>Africa</td>\n",
       "      <td>Cote_dIvoire</td>\n",
       "      <td>533</td>\n",
       "      <td>4</td>\n",
       "      <td>393</td>\n",
       "    </tr>\n",
       "    <tr>\n",
       "      <th>12</th>\n",
       "      <td>Africa</td>\n",
       "      <td>Democratic_Republic_of_the_Congo</td>\n",
       "      <td>234</td>\n",
       "      <td>20</td>\n",
       "      <td>176</td>\n",
       "    </tr>\n",
       "    <tr>\n",
       "      <th>13</th>\n",
       "      <td>Africa</td>\n",
       "      <td>Djibouti</td>\n",
       "      <td>187</td>\n",
       "      <td>2</td>\n",
       "      <td>172</td>\n",
       "    </tr>\n",
       "    <tr>\n",
       "      <th>14</th>\n",
       "      <td>Africa</td>\n",
       "      <td>Egypt</td>\n",
       "      <td>1939</td>\n",
       "      <td>146</td>\n",
       "      <td>1403</td>\n",
       "    </tr>\n",
       "    <tr>\n",
       "      <th>15</th>\n",
       "      <td>Africa</td>\n",
       "      <td>Equatorial_Guinea</td>\n",
       "      <td>18</td>\n",
       "      <td>0</td>\n",
       "      <td>5</td>\n",
       "    </tr>\n",
       "    <tr>\n",
       "      <th>16</th>\n",
       "      <td>Africa</td>\n",
       "      <td>Eritrea</td>\n",
       "      <td>34</td>\n",
       "      <td>0</td>\n",
       "      <td>28</td>\n",
       "    </tr>\n",
       "    <tr>\n",
       "      <th>17</th>\n",
       "      <td>Africa</td>\n",
       "      <td>Eswatini</td>\n",
       "      <td>14</td>\n",
       "      <td>0</td>\n",
       "      <td>5</td>\n",
       "    </tr>\n",
       "    <tr>\n",
       "      <th>18</th>\n",
       "      <td>Africa</td>\n",
       "      <td>Ethiopia</td>\n",
       "      <td>69</td>\n",
       "      <td>3</td>\n",
       "      <td>53</td>\n",
       "    </tr>\n",
       "    <tr>\n",
       "      <th>19</th>\n",
       "      <td>Africa</td>\n",
       "      <td>Gabon</td>\n",
       "      <td>49</td>\n",
       "      <td>1</td>\n",
       "      <td>42</td>\n",
       "    </tr>\n",
       "    <tr>\n",
       "      <th>20</th>\n",
       "      <td>Africa</td>\n",
       "      <td>Gambia</td>\n",
       "      <td>9</td>\n",
       "      <td>1</td>\n",
       "      <td>6</td>\n",
       "    </tr>\n",
       "    <tr>\n",
       "      <th>21</th>\n",
       "      <td>Africa</td>\n",
       "      <td>Ghana</td>\n",
       "      <td>408</td>\n",
       "      <td>8</td>\n",
       "      <td>267</td>\n",
       "    </tr>\n",
       "    <tr>\n",
       "      <th>22</th>\n",
       "      <td>Africa</td>\n",
       "      <td>Guinea</td>\n",
       "      <td>250</td>\n",
       "      <td>0</td>\n",
       "      <td>242</td>\n",
       "    </tr>\n",
       "    <tr>\n",
       "      <th>23</th>\n",
       "      <td>Africa</td>\n",
       "      <td>Guinea_Bissau</td>\n",
       "      <td>38</td>\n",
       "      <td>0</td>\n",
       "      <td>36</td>\n",
       "    </tr>\n",
       "    <tr>\n",
       "      <th>24</th>\n",
       "      <td>Africa</td>\n",
       "      <td>Kenya</td>\n",
       "      <td>191</td>\n",
       "      <td>7</td>\n",
       "      <td>153</td>\n",
       "    </tr>\n",
       "    <tr>\n",
       "      <th>25</th>\n",
       "      <td>Africa</td>\n",
       "      <td>Liberia</td>\n",
       "      <td>48</td>\n",
       "      <td>5</td>\n",
       "      <td>45</td>\n",
       "    </tr>\n",
       "    <tr>\n",
       "      <th>26</th>\n",
       "      <td>Africa</td>\n",
       "      <td>Libya</td>\n",
       "      <td>25</td>\n",
       "      <td>1</td>\n",
       "      <td>24</td>\n",
       "    </tr>\n",
       "    <tr>\n",
       "      <th>27</th>\n",
       "      <td>Africa</td>\n",
       "      <td>Madagascar</td>\n",
       "      <td>102</td>\n",
       "      <td>0</td>\n",
       "      <td>74</td>\n",
       "    </tr>\n",
       "    <tr>\n",
       "      <th>28</th>\n",
       "      <td>Africa</td>\n",
       "      <td>Malawi</td>\n",
       "      <td>12</td>\n",
       "      <td>2</td>\n",
       "      <td>12</td>\n",
       "    </tr>\n",
       "    <tr>\n",
       "      <th>29</th>\n",
       "      <td>Africa</td>\n",
       "      <td>Mali</td>\n",
       "      <td>105</td>\n",
       "      <td>9</td>\n",
       "      <td>96</td>\n",
       "    </tr>\n",
       "    <tr>\n",
       "      <th>...</th>\n",
       "      <td>...</td>\n",
       "      <td>...</td>\n",
       "      <td>...</td>\n",
       "      <td>...</td>\n",
       "      <td>...</td>\n",
       "    </tr>\n",
       "    <tr>\n",
       "      <th>176</th>\n",
       "      <td>Europe</td>\n",
       "      <td>Luxembourg</td>\n",
       "      <td>3270</td>\n",
       "      <td>62</td>\n",
       "      <td>1439</td>\n",
       "    </tr>\n",
       "    <tr>\n",
       "      <th>177</th>\n",
       "      <td>Europe</td>\n",
       "      <td>Malta</td>\n",
       "      <td>370</td>\n",
       "      <td>3</td>\n",
       "      <td>221</td>\n",
       "    </tr>\n",
       "    <tr>\n",
       "      <th>178</th>\n",
       "      <td>Europe</td>\n",
       "      <td>Moldova</td>\n",
       "      <td>1560</td>\n",
       "      <td>30</td>\n",
       "      <td>1329</td>\n",
       "    </tr>\n",
       "    <tr>\n",
       "      <th>179</th>\n",
       "      <td>Europe</td>\n",
       "      <td>Monaco</td>\n",
       "      <td>92</td>\n",
       "      <td>2</td>\n",
       "      <td>49</td>\n",
       "    </tr>\n",
       "    <tr>\n",
       "      <th>180</th>\n",
       "      <td>Europe</td>\n",
       "      <td>Montenegro</td>\n",
       "      <td>263</td>\n",
       "      <td>2</td>\n",
       "      <td>179</td>\n",
       "    </tr>\n",
       "    <tr>\n",
       "      <th>181</th>\n",
       "      <td>Europe</td>\n",
       "      <td>Netherlands</td>\n",
       "      <td>24413</td>\n",
       "      <td>2643</td>\n",
       "      <td>14651</td>\n",
       "    </tr>\n",
       "    <tr>\n",
       "      <th>182</th>\n",
       "      <td>Europe</td>\n",
       "      <td>North_Macedonia</td>\n",
       "      <td>760</td>\n",
       "      <td>34</td>\n",
       "      <td>519</td>\n",
       "    </tr>\n",
       "    <tr>\n",
       "      <th>183</th>\n",
       "      <td>Europe</td>\n",
       "      <td>Norway</td>\n",
       "      <td>6320</td>\n",
       "      <td>98</td>\n",
       "      <td>2475</td>\n",
       "    </tr>\n",
       "    <tr>\n",
       "      <th>184</th>\n",
       "      <td>Europe</td>\n",
       "      <td>Poland</td>\n",
       "      <td>6356</td>\n",
       "      <td>208</td>\n",
       "      <td>4718</td>\n",
       "    </tr>\n",
       "    <tr>\n",
       "      <th>185</th>\n",
       "      <td>Europe</td>\n",
       "      <td>Portugal</td>\n",
       "      <td>15987</td>\n",
       "      <td>470</td>\n",
       "      <td>10817</td>\n",
       "    </tr>\n",
       "    <tr>\n",
       "      <th>186</th>\n",
       "      <td>Europe</td>\n",
       "      <td>Romania</td>\n",
       "      <td>5990</td>\n",
       "      <td>282</td>\n",
       "      <td>4538</td>\n",
       "    </tr>\n",
       "    <tr>\n",
       "      <th>187</th>\n",
       "      <td>Europe</td>\n",
       "      <td>Russia</td>\n",
       "      <td>13584</td>\n",
       "      <td>106</td>\n",
       "      <td>12320</td>\n",
       "    </tr>\n",
       "    <tr>\n",
       "      <th>188</th>\n",
       "      <td>Europe</td>\n",
       "      <td>San_Marino</td>\n",
       "      <td>356</td>\n",
       "      <td>35</td>\n",
       "      <td>132</td>\n",
       "    </tr>\n",
       "    <tr>\n",
       "      <th>189</th>\n",
       "      <td>Europe</td>\n",
       "      <td>Serbia</td>\n",
       "      <td>3380</td>\n",
       "      <td>74</td>\n",
       "      <td>2721</td>\n",
       "    </tr>\n",
       "    <tr>\n",
       "      <th>190</th>\n",
       "      <td>Europe</td>\n",
       "      <td>Slovakia</td>\n",
       "      <td>728</td>\n",
       "      <td>2</td>\n",
       "      <td>433</td>\n",
       "    </tr>\n",
       "    <tr>\n",
       "      <th>191</th>\n",
       "      <td>Europe</td>\n",
       "      <td>Slovenia</td>\n",
       "      <td>1188</td>\n",
       "      <td>50</td>\n",
       "      <td>497</td>\n",
       "    </tr>\n",
       "    <tr>\n",
       "      <th>192</th>\n",
       "      <td>Europe</td>\n",
       "      <td>Spain</td>\n",
       "      <td>161852</td>\n",
       "      <td>16353</td>\n",
       "      <td>89604</td>\n",
       "    </tr>\n",
       "    <tr>\n",
       "      <th>193</th>\n",
       "      <td>Europe</td>\n",
       "      <td>Sweden</td>\n",
       "      <td>10151</td>\n",
       "      <td>887</td>\n",
       "      <td>6704</td>\n",
       "    </tr>\n",
       "    <tr>\n",
       "      <th>194</th>\n",
       "      <td>Europe</td>\n",
       "      <td>Switzerland</td>\n",
       "      <td>24820</td>\n",
       "      <td>831</td>\n",
       "      <td>11668</td>\n",
       "    </tr>\n",
       "    <tr>\n",
       "      <th>195</th>\n",
       "      <td>Europe</td>\n",
       "      <td>Ukraine</td>\n",
       "      <td>2511</td>\n",
       "      <td>73</td>\n",
       "      <td>2200</td>\n",
       "    </tr>\n",
       "    <tr>\n",
       "      <th>196</th>\n",
       "      <td>Europe</td>\n",
       "      <td>United_Kingdom</td>\n",
       "      <td>78991</td>\n",
       "      <td>9875</td>\n",
       "      <td>61902</td>\n",
       "    </tr>\n",
       "    <tr>\n",
       "      <th>197</th>\n",
       "      <td>Oceania</td>\n",
       "      <td>Australia</td>\n",
       "      <td>6289</td>\n",
       "      <td>57</td>\n",
       "      <td>2480</td>\n",
       "    </tr>\n",
       "    <tr>\n",
       "      <th>198</th>\n",
       "      <td>Oceania</td>\n",
       "      <td>Fiji</td>\n",
       "      <td>16</td>\n",
       "      <td>0</td>\n",
       "      <td>11</td>\n",
       "    </tr>\n",
       "    <tr>\n",
       "      <th>199</th>\n",
       "      <td>Oceania</td>\n",
       "      <td>French_Polynesia</td>\n",
       "      <td>51</td>\n",
       "      <td>0</td>\n",
       "      <td>17</td>\n",
       "    </tr>\n",
       "    <tr>\n",
       "      <th>200</th>\n",
       "      <td>Oceania</td>\n",
       "      <td>Guam</td>\n",
       "      <td>133</td>\n",
       "      <td>5</td>\n",
       "      <td>78</td>\n",
       "    </tr>\n",
       "    <tr>\n",
       "      <th>201</th>\n",
       "      <td>Oceania</td>\n",
       "      <td>New_Caledonia</td>\n",
       "      <td>18</td>\n",
       "      <td>0</td>\n",
       "      <td>3</td>\n",
       "    </tr>\n",
       "    <tr>\n",
       "      <th>202</th>\n",
       "      <td>Oceania</td>\n",
       "      <td>New_Zealand</td>\n",
       "      <td>1049</td>\n",
       "      <td>4</td>\n",
       "      <td>573</td>\n",
       "    </tr>\n",
       "    <tr>\n",
       "      <th>203</th>\n",
       "      <td>Oceania</td>\n",
       "      <td>Northern_Mariana_Islands</td>\n",
       "      <td>11</td>\n",
       "      <td>2</td>\n",
       "      <td>11</td>\n",
       "    </tr>\n",
       "    <tr>\n",
       "      <th>204</th>\n",
       "      <td>Oceania</td>\n",
       "      <td>Papua_New_Guinea</td>\n",
       "      <td>2</td>\n",
       "      <td>0</td>\n",
       "      <td>1</td>\n",
       "    </tr>\n",
       "    <tr>\n",
       "      <th>205</th>\n",
       "      <td>Other</td>\n",
       "      <td>Cases_on_an_international_conveyance_Japan</td>\n",
       "      <td>696</td>\n",
       "      <td>7</td>\n",
       "      <td>0</td>\n",
       "    </tr>\n",
       "  </tbody>\n",
       "</table>\n",
       "<p>206 rows × 5 columns</p>\n",
       "</div>"
      ],
      "text/plain": [
       "      Region                      Places reporting cases   Cases Deaths  \\\n",
       "0     Africa                                     Algeria    1825    275   \n",
       "1     Africa                                      Angola      19      2   \n",
       "2     Africa                                       Benin      35      1   \n",
       "3     Africa                                    Botswana      13      1   \n",
       "4     Africa                                Burkina_Faso     484     27   \n",
       "5     Africa                                     Burundi       5      0   \n",
       "6     Africa                                    Cameroon     820     11   \n",
       "7     Africa                                  Cape_Verde       8      1   \n",
       "8     Africa                    Central_African_Republic      11      0   \n",
       "9     Africa                                        Chad      11      0   \n",
       "10    Africa                                       Congo      60      5   \n",
       "11    Africa                                Cote_dIvoire     533      4   \n",
       "12    Africa            Democratic_Republic_of_the_Congo     234     20   \n",
       "13    Africa                                    Djibouti     187      2   \n",
       "14    Africa                                       Egypt    1939    146   \n",
       "15    Africa                           Equatorial_Guinea      18      0   \n",
       "16    Africa                                     Eritrea      34      0   \n",
       "17    Africa                                    Eswatini      14      0   \n",
       "18    Africa                                    Ethiopia      69      3   \n",
       "19    Africa                                       Gabon      49      1   \n",
       "20    Africa                                      Gambia       9      1   \n",
       "21    Africa                                       Ghana     408      8   \n",
       "22    Africa                                      Guinea     250      0   \n",
       "23    Africa                               Guinea_Bissau      38      0   \n",
       "24    Africa                                       Kenya     191      7   \n",
       "25    Africa                                     Liberia      48      5   \n",
       "26    Africa                                       Libya      25      1   \n",
       "27    Africa                                  Madagascar     102      0   \n",
       "28    Africa                                      Malawi      12      2   \n",
       "29    Africa                                        Mali     105      9   \n",
       "..       ...                                         ...     ...    ...   \n",
       "176   Europe                                  Luxembourg    3270     62   \n",
       "177   Europe                                       Malta     370      3   \n",
       "178   Europe                                     Moldova    1560     30   \n",
       "179   Europe                                      Monaco      92      2   \n",
       "180   Europe                                  Montenegro     263      2   \n",
       "181   Europe                                 Netherlands   24413   2643   \n",
       "182   Europe                             North_Macedonia     760     34   \n",
       "183   Europe                                      Norway    6320     98   \n",
       "184   Europe                                      Poland    6356    208   \n",
       "185   Europe                                    Portugal   15987    470   \n",
       "186   Europe                                     Romania    5990    282   \n",
       "187   Europe                                      Russia   13584    106   \n",
       "188   Europe                                  San_Marino     356     35   \n",
       "189   Europe                                      Serbia    3380     74   \n",
       "190   Europe                                    Slovakia     728      2   \n",
       "191   Europe                                    Slovenia    1188     50   \n",
       "192   Europe                                       Spain  161852  16353   \n",
       "193   Europe                                      Sweden   10151    887   \n",
       "194   Europe                                 Switzerland   24820    831   \n",
       "195   Europe                                     Ukraine    2511     73   \n",
       "196   Europe                              United_Kingdom   78991   9875   \n",
       "197  Oceania                                   Australia    6289     57   \n",
       "198  Oceania                                        Fiji      16      0   \n",
       "199  Oceania                            French_Polynesia      51      0   \n",
       "200  Oceania                                        Guam     133      5   \n",
       "201  Oceania                               New_Caledonia      18      0   \n",
       "202  Oceania                                 New_Zealand    1049      4   \n",
       "203  Oceania                    Northern_Mariana_Islands      11      2   \n",
       "204  Oceania                            Papua_New_Guinea       2      0   \n",
       "205    Other  Cases_on_an_international_conveyance_Japan     696      7   \n",
       "\n",
       "    Confirmed cases in the last 14 days  \n",
       "0                                  1416  \n",
       "1                                    15  \n",
       "2                                    29  \n",
       "3                                    13  \n",
       "4                                   304  \n",
       "5                                     5  \n",
       "6                                   721  \n",
       "7                                     3  \n",
       "8                                     5  \n",
       "9                                     6  \n",
       "10                                   41  \n",
       "11                                  393  \n",
       "12                                  176  \n",
       "13                                  172  \n",
       "14                                 1403  \n",
       "15                                    5  \n",
       "16                                   28  \n",
       "17                                    5  \n",
       "18                                   53  \n",
       "19                                   42  \n",
       "20                                    6  \n",
       "21                                  267  \n",
       "22                                  242  \n",
       "23                                   36  \n",
       "24                                  153  \n",
       "25                                   45  \n",
       "26                                   24  \n",
       "27                                   74  \n",
       "28                                   12  \n",
       "29                                   96  \n",
       "..                                  ...  \n",
       "176                                1439  \n",
       "177                                 221  \n",
       "178                                1329  \n",
       "179                                  49  \n",
       "180                                 179  \n",
       "181                               14651  \n",
       "182                                 519  \n",
       "183                                2475  \n",
       "184                                4718  \n",
       "185                               10817  \n",
       "186                                4538  \n",
       "187                               12320  \n",
       "188                                 132  \n",
       "189                                2721  \n",
       "190                                 433  \n",
       "191                                 497  \n",
       "192                               89604  \n",
       "193                                6704  \n",
       "194                               11668  \n",
       "195                                2200  \n",
       "196                               61902  \n",
       "197                                2480  \n",
       "198                                  11  \n",
       "199                                  17  \n",
       "200                                  78  \n",
       "201                                   3  \n",
       "202                                 573  \n",
       "203                                  11  \n",
       "204                                   1  \n",
       "205                                   0  \n",
       "\n",
       "[206 rows x 5 columns]"
      ]
     },
     "execution_count": 15,
     "metadata": {},
     "output_type": "execute_result"
    }
   ],
   "source": [
    "# Delete row at index position Region: Total\n",
    "df2 = df.drop([df.index[206]])\n",
    "df2"
   ]
  },
  {
   "cell_type": "markdown",
   "metadata": {},
   "source": [
    "<h2> Data Analysis</h2>"
   ]
  },
  {
   "cell_type": "code",
   "execution_count": 16,
   "metadata": {},
   "outputs": [],
   "source": [
    "import pandas as pd\n",
    "import matplotlib.pyplot as plt\n",
    "import numpy as np\n",
    "import seaborn as sns\n",
    "from sklearn.pipeline import Pipeline\n",
    "from sklearn.preprocessing import StandardScaler,PolynomialFeatures\n",
    "%matplotlib inline"
   ]
  },
  {
   "cell_type": "code",
   "execution_count": 17,
   "metadata": {},
   "outputs": [],
   "source": [
    "%%capture\n",
    "! pip install seaborn"
   ]
  },
  {
   "cell_type": "code",
   "execution_count": 18,
   "metadata": {},
   "outputs": [],
   "source": [
    "import matplotlib.pyplot as plt\n",
    "import seaborn as sns\n",
    "%matplotlib inline"
   ]
  },
  {
   "cell_type": "code",
   "execution_count": 25,
   "metadata": {},
   "outputs": [],
   "source": [
    "# Engine size as potential predictor variable of price\n",
    "#sns.regplot(x=\"Cases\", y=\"Deaths\", data=df2)\n",
    "#plt.ylim(0, )"
   ]
  },
  {
   "cell_type": "markdown",
   "metadata": {},
   "source": [
    "<h2>Explore the Data</h2>"
   ]
  },
  {
   "cell_type": "code",
   "execution_count": 19,
   "metadata": {},
   "outputs": [
    {
     "data": {
      "text/html": [
       "<div>\n",
       "<style scoped>\n",
       "    .dataframe tbody tr th:only-of-type {\n",
       "        vertical-align: middle;\n",
       "    }\n",
       "\n",
       "    .dataframe tbody tr th {\n",
       "        vertical-align: top;\n",
       "    }\n",
       "\n",
       "    .dataframe thead th {\n",
       "        text-align: right;\n",
       "    }\n",
       "</style>\n",
       "<table border=\"1\" class=\"dataframe\">\n",
       "  <thead>\n",
       "    <tr style=\"text-align: right;\">\n",
       "      <th></th>\n",
       "      <th>Region</th>\n",
       "      <th>Places reporting cases</th>\n",
       "      <th>Cases</th>\n",
       "      <th>Deaths</th>\n",
       "      <th>Confirmed cases in the last 14 days</th>\n",
       "    </tr>\n",
       "  </thead>\n",
       "  <tbody>\n",
       "    <tr>\n",
       "      <th>count</th>\n",
       "      <td>206</td>\n",
       "      <td>206</td>\n",
       "      <td>206</td>\n",
       "      <td>206</td>\n",
       "      <td>206</td>\n",
       "    </tr>\n",
       "    <tr>\n",
       "      <th>unique</th>\n",
       "      <td>6</td>\n",
       "      <td>206</td>\n",
       "      <td>170</td>\n",
       "      <td>77</td>\n",
       "      <td>160</td>\n",
       "    </tr>\n",
       "    <tr>\n",
       "      <th>top</th>\n",
       "      <td>Europe</td>\n",
       "      <td>China</td>\n",
       "      <td>9</td>\n",
       "      <td>0</td>\n",
       "      <td>5</td>\n",
       "    </tr>\n",
       "    <tr>\n",
       "      <th>freq</th>\n",
       "      <td>54</td>\n",
       "      <td>1</td>\n",
       "      <td>4</td>\n",
       "      <td>45</td>\n",
       "      <td>8</td>\n",
       "    </tr>\n",
       "  </tbody>\n",
       "</table>\n",
       "</div>"
      ],
      "text/plain": [
       "        Region Places reporting cases Cases Deaths  \\\n",
       "count      206                    206   206    206   \n",
       "unique       6                    206   170     77   \n",
       "top     Europe                  China     9      0   \n",
       "freq        54                      1     4     45   \n",
       "\n",
       "       Confirmed cases in the last 14 days  \n",
       "count                                  206  \n",
       "unique                                 160  \n",
       "top                                      5  \n",
       "freq                                     8  "
      ]
     },
     "execution_count": 19,
     "metadata": {},
     "output_type": "execute_result"
    }
   ],
   "source": [
    "df2.describe()"
   ]
  },
  {
   "cell_type": "markdown",
   "metadata": {},
   "source": [
    "<b>We can see we have missing values for the columns. </b>"
   ]
  },
  {
   "cell_type": "code",
   "execution_count": 20,
   "metadata": {},
   "outputs": [
    {
     "name": "stdout",
     "output_type": "stream",
     "text": [
      "number of NaN values for the column Region : 0\n",
      "number of NaN values for the column Places reporting cases: 0\n",
      "number of NaN values for the column Cases : 0\n",
      "number of NaN values for the column Deaths : 0\n"
     ]
    }
   ],
   "source": [
    "print(\"number of NaN values for the column Region :\", df2['Region'].isnull().sum())\n",
    "print(\"number of NaN values for the column Places reporting cases:\", df2['Places reporting cases'].isnull().sum())\n",
    "print(\"number of NaN values for the column Cases :\", df2['Cases'].isnull().sum())\n",
    "print(\"number of NaN values for the column Deaths :\", df2['Deaths'].isnull().sum())\n",
    "#print(\"number of NaN values for the column Confirmed cases in the last 15 days :\", df2['Confirmed cases in the last 15 days'].isnull().sum())"
   ]
  },
  {
   "cell_type": "markdown",
   "metadata": {},
   "source": [
    "<h2>Exploratory data analysis</h2>"
   ]
  },
  {
   "cell_type": "code",
   "execution_count": 21,
   "metadata": {},
   "outputs": [
    {
     "data": {
      "text/html": [
       "<div>\n",
       "<style scoped>\n",
       "    .dataframe tbody tr th:only-of-type {\n",
       "        vertical-align: middle;\n",
       "    }\n",
       "\n",
       "    .dataframe tbody tr th {\n",
       "        vertical-align: top;\n",
       "    }\n",
       "\n",
       "    .dataframe thead th {\n",
       "        text-align: right;\n",
       "    }\n",
       "</style>\n",
       "<table border=\"1\" class=\"dataframe\">\n",
       "  <thead>\n",
       "    <tr style=\"text-align: right;\">\n",
       "      <th></th>\n",
       "      <th>Region</th>\n",
       "    </tr>\n",
       "  </thead>\n",
       "  <tbody>\n",
       "    <tr>\n",
       "      <th>Europe</th>\n",
       "      <td>54</td>\n",
       "    </tr>\n",
       "    <tr>\n",
       "      <th>Africa</th>\n",
       "      <td>52</td>\n",
       "    </tr>\n",
       "    <tr>\n",
       "      <th>America</th>\n",
       "      <td>49</td>\n",
       "    </tr>\n",
       "    <tr>\n",
       "      <th>Asia</th>\n",
       "      <td>42</td>\n",
       "    </tr>\n",
       "    <tr>\n",
       "      <th>Oceania</th>\n",
       "      <td>8</td>\n",
       "    </tr>\n",
       "    <tr>\n",
       "      <th>Other</th>\n",
       "      <td>1</td>\n",
       "    </tr>\n",
       "  </tbody>\n",
       "</table>\n",
       "</div>"
      ],
      "text/plain": [
       "         Region\n",
       "Europe       54\n",
       "Africa       52\n",
       "America      49\n",
       "Asia         42\n",
       "Oceania       8\n",
       "Other         1"
      ]
     },
     "execution_count": 21,
     "metadata": {},
     "output_type": "execute_result"
    }
   ],
   "source": [
    "df2['Region'].value_counts().to_frame()"
   ]
  },
  {
   "cell_type": "markdown",
   "metadata": {},
   "source": [
    "<h2> Model Development</h2>"
   ]
  },
  {
   "cell_type": "code",
   "execution_count": 22,
   "metadata": {},
   "outputs": [],
   "source": [
    "#Import libraries \n",
    "import matplotlib.pyplot as plt\n",
    "import numpy as np\n",
    "from sklearn.linear_model import LinearRegression \n",
    "%matplotlib inline"
   ]
  },
  {
   "cell_type": "markdown",
   "metadata": {},
   "source": [
    "<b>Import packages</b>"
   ]
  },
  {
   "cell_type": "code",
   "execution_count": 47,
   "metadata": {},
   "outputs": [
    {
     "name": "stdout",
     "output_type": "stream",
     "text": [
      "Solving environment: done\n",
      "\n",
      "## Package Plan ##\n",
      "\n",
      "  environment location: /opt/conda/envs/Python36\n",
      "\n",
      "  added / updated specs: \n",
      "    - xlrd\n",
      "\n",
      "\n",
      "The following packages will be downloaded:\n",
      "\n",
      "    package                    |            build\n",
      "    ---------------------------|-----------------\n",
      "    ca-certificates-2020.1.1   |                0         132 KB  anaconda\n",
      "    openssl-1.1.1              |       h7b6447c_0         5.0 MB  anaconda\n",
      "    xlrd-1.2.0                 |             py_0         108 KB  anaconda\n",
      "    certifi-2020.4.5.1         |           py36_0         159 KB  anaconda\n",
      "    ------------------------------------------------------------\n",
      "                                           Total:         5.4 MB\n",
      "\n",
      "The following packages will be UPDATED:\n",
      "\n",
      "    ca-certificates: 2020.1.1-0        --> 2020.1.1-0        anaconda\n",
      "    certifi:         2019.11.28-py36_0 --> 2020.4.5.1-py36_0 anaconda\n",
      "    openssl:         1.1.1e-h7b6447c_0 --> 1.1.1-h7b6447c_0  anaconda\n",
      "    xlrd:            1.2.0-py_0        --> 1.2.0-py_0        anaconda\n",
      "\n",
      "\n",
      "Downloading and Extracting Packages\n",
      "ca-certificates-2020 | 132 KB    | ##################################### | 100% \n",
      "openssl-1.1.1        | 5.0 MB    | ##################################### | 100% \n",
      "xlrd-1.2.0           | 108 KB    | ##################################### | 100% \n",
      "certifi-2020.4.5.1   | 159 KB    | ##################################### | 100% \n",
      "Preparing transaction: done\n",
      "Verifying transaction: done\n",
      "Executing transaction: done\n"
     ]
    }
   ],
   "source": [
    "!conda install -c anaconda xlrd --yes"
   ]
  },
  {
   "cell_type": "markdown",
   "metadata": {},
   "source": [
    "<h2>Model 1a: Simple Linear Regression Development</h2>"
   ]
  },
  {
   "cell_type": "markdown",
   "metadata": {},
   "source": [
    "\n",
    "(a)We can Fit a linear regression model using the<B> Cases</B> feature and caculate the R^2 for <b>Deaths</b>"
   ]
  },
  {
   "cell_type": "code",
   "execution_count": 23,
   "metadata": {},
   "outputs": [
    {
     "data": {
      "text/plain": [
       "0.7205027189687778"
      ]
     },
     "execution_count": 23,
     "metadata": {},
     "output_type": "execute_result"
    }
   ],
   "source": [
    "X = df2[['Cases']] \n",
    "Y = df2['Deaths'] \n",
    "lm = LinearRegression() \n",
    "lm \n",
    "lm.fit(X,Y)\n",
    "lm.score(X, Y)"
   ]
  },
  {
   "cell_type": "markdown",
   "metadata": {},
   "source": [
    "<b>How could identified cases help us predict deaths? </b>"
   ]
  },
  {
   "cell_type": "code",
   "execution_count": 24,
   "metadata": {},
   "outputs": [
    {
     "data": {
      "text/plain": [
       "array([183.14822279,  89.35398131,  90.18493804,  89.04237253,\n",
       "       113.50366142])"
      ]
     },
     "execution_count": 24,
     "metadata": {},
     "output_type": "execute_result"
    }
   ],
   "source": [
    "X = df2[['Cases']] \n",
    "Y = df2['Deaths'] \n",
    "lm = LinearRegression()\n",
    "lm\n",
    "lm.fit(X,Y)\n",
    "\n",
    "Yhat=lm.predict(X)\n",
    "Yhat[0:5]"
   ]
  },
  {
   "cell_type": "markdown",
   "metadata": {},
   "source": [
    "<b> What is the value of the intercept ? </b>"
   ]
  },
  {
   "cell_type": "code",
   "execution_count": 25,
   "metadata": {},
   "outputs": [
    {
     "data": {
      "text/plain": [
       "88.36722018621413"
      ]
     },
     "execution_count": 25,
     "metadata": {},
     "output_type": "execute_result"
    }
   ],
   "source": [
    "lm.intercept_"
   ]
  },
  {
   "cell_type": "markdown",
   "metadata": {},
   "source": [
    "<b>What is the value of the Slope ? </b>"
   ]
  },
  {
   "cell_type": "code",
   "execution_count": 26,
   "metadata": {},
   "outputs": [
    {
     "data": {
      "text/plain": [
       "array([0.0519348])"
      ]
     },
     "execution_count": 26,
     "metadata": {},
     "output_type": "execute_result"
    }
   ],
   "source": [
    "lm.coef_"
   ]
  },
  {
   "cell_type": "markdown",
   "metadata": {},
   "source": [
    "\n",
    "<h2>What is the final estimated linear model we get?</h2>\n",
    "\n",
    "As we saw above, we should get a final linear model with the structure: <I>  Yhat = a + b X </I>\n",
    "\n",
    "Plugging in the actual values we get: \n",
    "\n",
    "<b>Deaths = 88.367 + 0.0519 x cases </b> as of data update of 12th April 2020 at 12:56pm. However, \n",
    " this Linear model keeps changing as the numbers of cases and deaths increases "
   ]
  },
  {
   "cell_type": "markdown",
   "metadata": {},
   "source": [
    "<h2>Model 1b: Simple Linear Regression</h2>"
   ]
  },
  {
   "cell_type": "markdown",
   "metadata": {},
   "source": [
    " (b)We can Fit a linear regression model using the <b>Confirmed cases in the last 14 days </b>feature and caculate the R^2 for <b>Deaths</b>"
   ]
  },
  {
   "cell_type": "code",
   "execution_count": 47,
   "metadata": {},
   "outputs": [
    {
     "data": {
      "text/plain": [
       "0.5986593289391934"
      ]
     },
     "execution_count": 47,
     "metadata": {},
     "output_type": "execute_result"
    }
   ],
   "source": [
    "X = df2[['Confirmed cases in the last 14 days']] \n",
    "Y = df2['Deaths'] \n",
    "lm = LinearRegression() \n",
    "lm \n",
    "lm.fit(X,Y)\n",
    "lm.score(X, Y)"
   ]
  },
  {
   "cell_type": "markdown",
   "metadata": {},
   "source": [
    "When you compare Model 1a: Simple Linear Regression and Model 1b: Simple Linear Regression the R^2 values are ~<b>72%</b> and ~<b>60% </B>. Thus, Model 1 (a) performs better than that in (b). We use Cases instead of Confirmed cases in the last 14 days when developing Linear Regression model."
   ]
  },
  {
   "cell_type": "markdown",
   "metadata": {},
   "source": [
    "<h2> Measures for In-Sample Evaluation  of  Linear Regression</h2>"
   ]
  },
  {
   "cell_type": "markdown",
   "metadata": {},
   "source": [
    "<h2>R-squared </h2> R squared, also known as the coefficient of determination, is a measure to indicate how close the data is to the fitted regression line. The value of the R-squared is the percentage of variation of the response variable (y) that is explained by a linear model.\n",
    "<h2>Mean Squared Error (MSE)</h2>\n",
    "The Mean Squared Error measures the average of the squares of errors, that is, the difference between actual value (y) and the estimated value (ŷ).\n"
   ]
  },
  {
   "cell_type": "markdown",
   "metadata": {},
   "source": [
    "<h2>Model 1: Simple Linear Regression</h2>"
   ]
  },
  {
   "cell_type": "code",
   "execution_count": 27,
   "metadata": {},
   "outputs": [
    {
     "name": "stdout",
     "output_type": "stream",
     "text": [
      "The R-square is:  0.7205027189687778\n"
     ]
    }
   ],
   "source": [
    "#Cases_fit\n",
    "lm.fit(X, Y)\n",
    "# Find the R^2\n",
    "print('The R-square is: ', lm.score(X, Y))\n"
   ]
  },
  {
   "cell_type": "markdown",
   "metadata": {},
   "source": [
    "We can say that ~ <b>72%</b> of the variation of the Deaths is explained by this simple linear model \"Cases_fit\"."
   ]
  },
  {
   "cell_type": "markdown",
   "metadata": {},
   "source": [
    "<h2>Let's calculate the MSE</h2> We can predict the output i.e., \"yhat\" using the predict method, where X is the input variable:"
   ]
  },
  {
   "cell_type": "code",
   "execution_count": 28,
   "metadata": {},
   "outputs": [
    {
     "name": "stdout",
     "output_type": "stream",
     "text": [
      "The output of the first four predicted value is:  [183.14822279  89.35398131  90.18493804  89.04237253]\n"
     ]
    }
   ],
   "source": [
    "Yhat=lm.predict(X)\n",
    "print('The output of the first four predicted value is: ', Yhat[0:4])\n"
   ]
  },
  {
   "cell_type": "markdown",
   "metadata": {},
   "source": [
    "lets import the function <b>mean_squared_error</b> from the <b>module metrics</b>"
   ]
  },
  {
   "cell_type": "code",
   "execution_count": 29,
   "metadata": {},
   "outputs": [],
   "source": [
    "from sklearn.metrics import mean_squared_error"
   ]
  },
  {
   "cell_type": "markdown",
   "metadata": {},
   "source": [
    "<b> Wwe compare the predicted results with the actual results</b>"
   ]
  },
  {
   "cell_type": "code",
   "execution_count": 31,
   "metadata": {},
   "outputs": [
    {
     "name": "stdout",
     "output_type": "stream",
     "text": [
      "The mean square error of price and predicted value is:  1851204.6582469824\n"
     ]
    }
   ],
   "source": [
    "mse = mean_squared_error(df2['Deaths'], Yhat)\n",
    "print('The mean square error of price and predicted value is: ', mse)"
   ]
  },
  {
   "cell_type": "markdown",
   "metadata": {},
   "source": [
    "<h2> Multiple Linear Regression</h2>"
   ]
  },
  {
   "cell_type": "markdown",
   "metadata": {},
   "source": [
    "<B> \n",
    "\n",
    "What if we want to predict car price using more than one variable?</B>"
   ]
  },
  {
   "cell_type": "markdown",
   "metadata": {},
   "source": [
    "If we want to use more variables in our model to predict Deaths, we can use <b>Multiple Linear Regression</b>. Multiple Linear Regression is very similar to Simple Linear Regression, but this method is used to explain the relationship between one continuous response (dependent) variable and two or more predictor (independent) variables. Most of the real-world regression models involve multiple predictors. We will illustrate the structure by using four predictor variables, but these results can generalize to any integer:"
   ]
  },
  {
   "cell_type": "markdown",
   "metadata": {},
   "source": [
    "<b> Let's develop a model using these variables as the predictor variables. </b>"
   ]
  },
  {
   "cell_type": "code",
   "execution_count": 32,
   "metadata": {},
   "outputs": [],
   "source": [
    "Z = df2[['Cases', 'Confirmed cases in the last 14 days']]"
   ]
  },
  {
   "cell_type": "markdown",
   "metadata": {},
   "source": [
    "<b>Fit the linear model using the four above-mentioned variables.</b>"
   ]
  },
  {
   "cell_type": "code",
   "execution_count": 33,
   "metadata": {},
   "outputs": [
    {
     "data": {
      "text/plain": [
       "LinearRegression(copy_X=True, fit_intercept=True, n_jobs=None,\n",
       "         normalize=False)"
      ]
     },
     "execution_count": 33,
     "metadata": {},
     "output_type": "execute_result"
    }
   ],
   "source": [
    "lm.fit(Z, df2['Deaths'])"
   ]
  },
  {
   "cell_type": "markdown",
   "metadata": {},
   "source": [
    "<b> What is the value of the intercept(a)?</b>"
   ]
  },
  {
   "cell_type": "code",
   "execution_count": 34,
   "metadata": {},
   "outputs": [
    {
     "data": {
      "text/plain": [
       "10.921256839909915"
      ]
     },
     "execution_count": 34,
     "metadata": {},
     "output_type": "execute_result"
    }
   ],
   "source": [
    "lm.intercept_"
   ]
  },
  {
   "cell_type": "markdown",
   "metadata": {},
   "source": [
    "<b> What are the values of the coefficients (b1, b2, b3, b4)?</b>"
   ]
  },
  {
   "cell_type": "code",
   "execution_count": 35,
   "metadata": {},
   "outputs": [
    {
     "data": {
      "text/plain": [
       "array([ 0.1326288, -0.1150631])"
      ]
     },
     "execution_count": 35,
     "metadata": {},
     "output_type": "execute_result"
    }
   ],
   "source": [
    "lm.coef_"
   ]
  },
  {
   "cell_type": "markdown",
   "metadata": {},
   "source": [
    "<b>What is the final estimated linear model that we get?</b>"
   ]
  },
  {
   "cell_type": "markdown",
   "metadata": {},
   "source": [
    "As we saw above, we should get a final linear function with the structure"
   ]
  },
  {
   "cell_type": "markdown",
   "metadata": {},
   "source": [
    "<h2> Deaths = 10.921 + 0.133*Cases - 0.115* Confirmed cases in the last 14 days</h2> As at 1:15pm  12th April 2020. This model keeps on changing as data is being updated daily."
   ]
  },
  {
   "cell_type": "markdown",
   "metadata": {},
   "source": [
    "<h2>Measures for In-Sample Evaluation of Multiple Linear Regression</h2>"
   ]
  },
  {
   "cell_type": "markdown",
   "metadata": {},
   "source": [
    "<h2>Model 2: Multiple Linear Regression</h2>"
   ]
  },
  {
   "cell_type": "markdown",
   "metadata": {},
   "source": [
    "<b>Let's calculate the R^2</b>"
   ]
  },
  {
   "cell_type": "code",
   "execution_count": 37,
   "metadata": {},
   "outputs": [
    {
     "name": "stdout",
     "output_type": "stream",
     "text": [
      "The R-square is:  0.7972667695344539\n"
     ]
    }
   ],
   "source": [
    "# fit the model \n",
    "lm.fit(Z, df2['Deaths'])\n",
    "# Find the R^2\n",
    "print('The R-square is: ', lm.score(Z, df2['Deaths']))\n"
   ]
  },
  {
   "cell_type": "markdown",
   "metadata": {},
   "source": [
    "We can say that ~ <b>79.73 %</b> of the variation of price is explained by this multiple linear regression \"multi_fit\"."
   ]
  },
  {
   "cell_type": "markdown",
   "metadata": {},
   "source": [
    "<b>Let's calculate the MSE</b>"
   ]
  },
  {
   "cell_type": "markdown",
   "metadata": {},
   "source": [
    "We produce a prediction"
   ]
  },
  {
   "cell_type": "code",
   "execution_count": 38,
   "metadata": {},
   "outputs": [],
   "source": [
    "Y_predict_multifit = lm.predict(Z)"
   ]
  },
  {
   "cell_type": "markdown",
   "metadata": {},
   "source": [
    "we compare the predicted results with the actual results"
   ]
  },
  {
   "cell_type": "code",
   "execution_count": 39,
   "metadata": {},
   "outputs": [
    {
     "name": "stdout",
     "output_type": "stream",
     "text": [
      "The mean square error of price and predicted value using multifit is:  1342770.488623659\n"
     ]
    }
   ],
   "source": [
    "print('The mean square error of price and predicted value using multifit is: ', \\\n",
    "      mean_squared_error(df2['Deaths'], Y_predict_multifit))\n"
   ]
  },
  {
   "cell_type": "markdown",
   "metadata": {},
   "source": [
    "<h2>Decision Making: Determining a Good Model Fit</h2>Now that we have visualized the different models, and generated the R-squared and MSE values for the fits, how do we determine a good model fit? "
   ]
  },
  {
   "cell_type": "markdown",
   "metadata": {},
   "source": [
    "\n",
    "<h2>What is a good R-squared value?</h2>\n",
    "\n",
    "\n",
    "When comparing models, the model with the higher R-squared value is a better fit for the data. \n",
    "\n",
    "<h2>What is a good MSE?:</h2>\n",
    "When comparing models, the model with the smallest MSE value is a better fit for the data."
   ]
  },
  {
   "cell_type": "markdown",
   "metadata": {},
   "source": [
    "\n",
    "<b>Let's take a look at the values for the different models.</b>\n",
    "<b><I>Simple Linear Regression:</I></B> Using Cases as a Predictor Variable of Deaths. \n",
    "•\tR-squared: 0.7205027189687778\n",
    "•\tMSE: 1.85 x10^6\n",
    "\n"
   ]
  },
  {
   "cell_type": "markdown",
   "metadata": {},
   "source": [
    "<b><I>Multiple Linear Regression:</b></I> Using Cases, and Confirmed cases in the last 14 days as Predictor Variables of Deaths. \n",
    "•\tR-squared: 0.7972667695344539\n",
    "•\tMSE: 1.34 x10^6\n"
   ]
  },
  {
   "cell_type": "markdown",
   "metadata": {},
   "source": [
    "<h2>Conclusion:</h2>"
   ]
  },
  {
   "cell_type": "markdown",
   "metadata": {},
   "source": [
    "Comparing these three models, we conclude that the <b>Multiple Linear Regression model</b> is the best model to be able to predict Deaths from our dataset. This result makes sense, since we have 3 variables in total, and we know that more than one of those variables are potential predictors of the final numbers of Deaths."
   ]
  },
  {
   "cell_type": "markdown",
   "metadata": {},
   "source": [
    "Model for predicting deaths based on cases and Confirmed cases in the last 14 days for PART 1 of our project is <h2> Deaths = 10.921 + 0.133*Cases - 0.115* Confirmed cases in the last 14 days</h2> As at 1:15pm  12th April 2020. This model keeps on changing as data is being updated daily."
   ]
  },
  {
   "cell_type": "markdown",
   "metadata": {},
   "source": [
    "<h2>Thank you for completing this notebook</h2>"
   ]
  },
  {
   "cell_type": "markdown",
   "metadata": {},
   "source": [
    "<h2>About the Author:</h2>"
   ]
  },
  {
   "cell_type": "markdown",
   "metadata": {},
   "source": [
    "This notebook was written by <a>Michael Kumakech</a>.\n",
    "Michael Kumakech is Lecturer at Faculty of Science and Technology Cavendish University in Uganda, and holds a Professional Certificate in IBM Data Science, a  MSc in Data Communication and Software Engineering. His research focused on using Machine Learning, Signal Processing, and Computer Vision to determine how videos impact human cognition. Michael has been working for Cavendish University in Uganda since 2019.\n"
   ]
  },
  {
   "cell_type": "markdown",
   "metadata": {},
   "source": [
    "<h2> PART 2: Machine Learning</h2> This is the Next......for week of 19th April 2020 to 25th April 2020. Class of Artificial Intelligence must participate actively in running the codes. "
   ]
  },
  {
   "cell_type": "code",
   "execution_count": null,
   "metadata": {},
   "outputs": [],
   "source": []
  }
 ],
 "metadata": {
  "kernelspec": {
   "display_name": "Python 3.6",
   "language": "python",
   "name": "python3"
  },
  "language_info": {
   "codemirror_mode": {
    "name": "ipython",
    "version": 3
   },
   "file_extension": ".py",
   "mimetype": "text/x-python",
   "name": "python",
   "nbconvert_exporter": "python",
   "pygments_lexer": "ipython3",
   "version": "3.6.9"
  }
 },
 "nbformat": 4,
 "nbformat_minor": 1
}
